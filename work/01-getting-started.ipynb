{
 "cells": [
  {
   "cell_type": "markdown",
   "metadata": {},
   "source": [
    "## 1. راه‌اندازی SparkSession\n",
    "\n",
    "ابتدا یک `SparkSession` با پشتیبانی از Delta Lake و Hive ایجاد می‌کنیم. تمام پیکربندی‌های لازم برای اتصال به MinIO و Hive Metastore قبلاً از طریق فایل `spark-defaults.conf` تنظیم شده‌اند."
   ]
  },
  {
   "cell_type": "code",
   